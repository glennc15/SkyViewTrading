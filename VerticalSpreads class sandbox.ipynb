{
 "cells": [
  {
   "cell_type": "code",
   "execution_count": 1,
   "metadata": {},
   "outputs": [],
   "source": [
    "%load_ext autoreload\n",
    "%autoreload 2\n",
    "\n",
    "import datetime\n",
    "import numpy as np\n",
    "import pandas as pd\n",
    "\n",
    "from IPython.display import display\n",
    "\n",
    "import CBOEFileParser\n",
    "import VerticalSpreads\n",
    "import CBOE_Downloader\n",
    "import POP\n",
    "\n",
    "import VerticalSpread"
   ]
  },
  {
   "cell_type": "code",
   "execution_count": 2,
   "metadata": {
    "collapsed": true
   },
   "outputs": [],
   "source": [
    "underlying_symbol = \"BIDU\"\n",
    "risk_free_rate = 2.94"
   ]
  },
  {
   "cell_type": "markdown",
   "metadata": {},
   "source": [
    "## POP Calculator - only needs to be ran at the beginning of the trading day"
   ]
  },
  {
   "cell_type": "code",
   "execution_count": 3,
   "metadata": {},
   "outputs": [],
   "source": [
    "pop_calculator = POP.POP().get_ohlc_data(underlying_symbol)"
   ]
  },
  {
   "cell_type": "markdown",
   "metadata": {},
   "source": [
    "# Update the Option Chain"
   ]
  },
  {
   "cell_type": "code",
   "execution_count": 4,
   "metadata": {},
   "outputs": [
    {
     "name": "stdout",
     "output_type": "stream",
     "text": [
      "Expiration: 2018-08-31 23:59:00\n",
      "Calls: 47\n",
      "Puts: 47\n",
      "Expiration: 2018-09-07 23:59:00\n",
      "Calls: 29\n",
      "Puts: 29\n",
      "Expiration: 2018-09-21 23:59:00\n",
      "Calls: 35\n",
      "Puts: 29\n"
     ]
    }
   ],
   "source": [
    "# cboe_file = CBOE_Downloader.CBOE_Downloader(underlying_symbol).download().save_download().get_filename()\n",
    "cboe_file = \"/Users/glenn/Documents/CBOE_Data/BIDU_201807261013.dat\"\n",
    "# cboe_file = \"/Users/glenn/Documents/CBOE_Data/GOOG_201807301217.dat\"\n",
    "\n",
    "option_chain_obj = CBOEFileParser.CBOEFileParser(\n",
    "                    remove_options_after_days=60,\n",
    "                    remove_options_before_days=30,\n",
    "                    set_exchange=None) \\\n",
    "                    .parse_cboe_file(cboe_file=cboe_file) \\\n",
    "                    .add_greeks(risk_free_rate=0.298)\n",
    "\n",
    "for expiration, calls, puts in option_chain_obj.items():\n",
    "    print(\"Expiration: {}\".format(expiration))\n",
    "    print(\"Calls: {:,}\".format(len(calls)))\n",
    "    print(\"Puts: {:,}\".format(len(puts)))\n",
    "    \n",
    "vertical_spreads = VerticalSpreads.VerticalSpreads() \\\n",
    "                                    .build_spreads(option_chain_obj) \\\n",
    "                                    .risk_limit(200)\\\n",
    "                                    .itm_spreads(option_chain_obj.underlying_spot) \\\n",
    "                                    .sky_view_spreads() \\\n",
    "                                    .add_pop(pop_calculator, option_chain_obj.underlying_spot) \\\n",
    "                                    .add_expected_return(pop_calculator, option_chain_obj.underlying_spot) \\\n",
    "                                    .write_to_mongo(mongo_address=\"mongodb://localhost:27017\")\n",
    "                \n",
    "print(\"Current Spot: {}\".format(option_chain_obj.underlying_spot))\n",
    "for expiration, bull_calls, bull_puts, bear_calls, bear_puts in vertical_spreads.items():\n",
    "    print(\"Expiration: {}\".format(expiration))\n",
    "    print(\"Bull Puts: {:,}\".format(len(bull_puts)))\n",
    "    print(\"Bear Calls: {:,}\".format(len(bear_calls)))"
   ]
  },
  {
   "cell_type": "code",
   "execution_count": 31,
   "metadata": {},
   "outputs": [
    {
     "name": "stdout",
     "output_type": "stream",
     "text": [
      "Current Spot: 259.54\n",
      "Expiration: 2018-08-31 23:59:00\n",
      "Bull Puts: 4\n",
      "Bear Calls: 5\n",
      "Expiration: 2018-09-07 23:59:00\n",
      "Bull Puts: 0\n",
      "Bear Calls: 0\n",
      "Expiration: 2018-09-21 23:59:00\n",
      "Bull Puts: 0\n",
      "Bear Calls: 0\n"
     ]
    }
   ],
   "source": [
    "vertical_spreads = VerticalSpreads.VerticalSpreads() \\\n",
    "                                    .build_spreads(option_chain_obj) \\\n",
    "                                    .risk_limit(200)\\\n",
    "                                    .itm_spreads(option_chain_obj.underlying_spot) \\\n",
    "                                    .sky_view_spreads() \\\n",
    "                                    .add_pop(pop_calculator, option_chain_obj.underlying_spot) \\\n",
    "                                    .add_expected_return(pop_calculator, option_chain_obj.underlying_spot) \\\n",
    "                                    .write_to_mongo(mongo_address=\"mongodb://localhost:27017\")\n",
    "                \n",
    "print(\"Current Spot: {}\".format(option_chain_obj.underlying_spot))\n",
    "for expiration, bull_calls, bull_puts, bear_calls, bear_puts in vertical_spreads.items():\n",
    "    print(\"Expiration: {}\".format(expiration))\n",
    "    print(\"Bull Puts: {:,}\".format(len(bull_puts)))\n",
    "    print(\"Bear Calls: {:,}\".format(len(bear_calls)))\n"
   ]
  },
  {
   "cell_type": "code",
   "execution_count": null,
   "metadata": {
    "collapsed": true
   },
   "outputs": [],
   "source": []
  }
 ],
 "metadata": {
  "kernelspec": {
   "display_name": "Python 3",
   "language": "python",
   "name": "python3"
  },
  "language_info": {
   "codemirror_mode": {
    "name": "ipython",
    "version": 3
   },
   "file_extension": ".py",
   "mimetype": "text/x-python",
   "name": "python",
   "nbconvert_exporter": "python",
   "pygments_lexer": "ipython3",
   "version": "3.6.1"
  }
 },
 "nbformat": 4,
 "nbformat_minor": 2
}
