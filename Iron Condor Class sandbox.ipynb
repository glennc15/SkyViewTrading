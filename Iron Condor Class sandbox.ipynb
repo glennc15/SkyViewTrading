{
 "cells": [
  {
   "cell_type": "code",
   "execution_count": 245,
   "metadata": {},
   "outputs": [
    {
     "name": "stdout",
     "output_type": "stream",
     "text": [
      "The autoreload extension is already loaded. To reload it, use:\n",
      "  %reload_ext autoreload\n"
     ]
    }
   ],
   "source": [
    "%load_ext autoreload\n",
    "%autoreload 2\n",
    "\n",
    "from IPython.display import display\n",
    "\n",
    "import pandas as pd\n",
    "import numpy as np \n",
    "import CBOEFileParser\n",
    "import CBOE_Downloader\n",
    "import POP\n",
    "import VerticalSpreads\n",
    "import IronCondors\n",
    "\n",
    "from pymongo import MongoClient\n",
    "\n",
    "\n",
    "\n",
    "\n",
    "import datetime"
   ]
  },
  {
   "cell_type": "code",
   "execution_count": null,
   "metadata": {
    "collapsed": true
   },
   "outputs": [],
   "source": [
    "pop_calculator = POP.POP().get_ohlc_data(underlying_symbol)"
   ]
  },
  {
   "cell_type": "code",
   "execution_count": 306,
   "metadata": {
    "collapsed": true
   },
   "outputs": [],
   "source": [
    "%%capture\n",
    "\n",
    "underlying_symbol = \"XLU\"\n",
    "risk_free_rate = 2.98\n",
    "\n",
    "# cboe_file = CBOE_Downloader.CBOE_Downloader(underlying_symbol).download().save_download().get_filename()\n",
    "# cboe_file = \"/Users/glenn/Documents/CBOE_Data/BIDU_201807261013.dat\"\n",
    "# cboe_file = \"/Users/glenn/Documents/CBOE_Data/GOOG_201807261202.dat\"\n",
    "cboe_file = \"/Users/glenn/Documents/CBOE_Data/GOOG_201807301217.dat\"\n",
    "\n",
    "\n",
    "\n",
    "option_chains = CBOEFileParser.CBOEFileParser() \\\n",
    "                    .parse_cboe_file(cboe_file) \\\n",
    "                    .remove_options_after(days=60) \\\n",
    "                    .remove_options_before(days=30) \\\n",
    "                    .set_exchange() \\\n",
    "                    .add_greeks(risk_free_rate=risk_free_rate)"
   ]
  },
  {
   "cell_type": "code",
   "execution_count": 308,
   "metadata": {},
   "outputs": [
    {
     "name": "stdout",
     "output_type": "stream",
     "text": [
      "There are 13,530 bull put spreads\n",
      "There are 13,410 bear call spreads\n",
      "There are 181,437,300 condors for expiration 2018-09-21 16:00:00\n",
      "There are 6,903 bull put spreads\n",
      "There are 6,742 bear call spreads\n",
      "There are 46,540,026 condors for expiration 2018-08-31 16:00:00\n",
      "There are 3,486 bull put spreads\n",
      "There are 3,370 bear call spreads\n",
      "There are 11,747,820 condors for expiration 2018-09-07 16:00:00\n",
      "GOOG\n",
      "Current Spot: 1224.99\n"
     ]
    }
   ],
   "source": [
    "iron_condors_obj = IronCondors.IronCondors() \\\n",
    "                            .build_condors(option_chains, risk_limit=200) \\\n",
    "                            .itm_condors(option_chains.underlying_spot) \\\n",
    "                            .sky_view_condors()\n",
    "#                             .add_pop(pop_calculator)\n",
    "\n",
    "print(option_chains.underlying_symbol)\n",
    "print(\"Current Spot: {}\".format(option_chains.underlying_spot))"
   ]
  },
  {
   "cell_type": "code",
   "execution_count": 305,
   "metadata": {},
   "outputs": [
    {
     "name": "stdout",
     "output_type": "stream",
     "text": [
      "Expiration: 2018-09-21 16:00:00\n",
      "Iron Condors: 112\n",
      "Bull Condors: 1\n",
      "Bear Condors: 6\n",
      "Expiration: 2018-08-31 16:00:00\n",
      "Iron Condors: 2133\n",
      "Bull Condors: 89\n",
      "Bear Condors: 339\n",
      "Expiration: 2018-09-07 16:00:00\n",
      "Iron Condors: 2460\n",
      "Bull Condors: 117\n",
      "Bear Condors: 395\n",
      "Total Number of condors found: 5,652\n"
     ]
    }
   ],
   "source": [
    "\n",
    "client = MongoClient(\"mongodb://localhost:27017\")\n",
    "\n",
    "\n",
    "total_condors = 0\n",
    "\n",
    "for expiration,v in iron_condors_obj.condors.items():\n",
    "    iron_condors = v[\"iron condors\"]\n",
    "    bull_condors = v[\"bull condors\"]\n",
    "    bear_condors = v[\"bear condors\"]\n",
    "    print(\"Expiration: {}\".format(expiration))\n",
    "    print(\"Iron Condors: {}\".format(len(iron_condors)))\n",
    "    print(\"Bull Condors: {}\".format(len(bull_condors)))    \n",
    "    print(\"Bear Condors: {}\".format(len(bear_condors)))\n",
    "    \n",
    "    total_condors += len(iron_condors)\n",
    "    total_condors += len(bull_condors)\n",
    "    total_condors += len(bear_condors)\n",
    "\n",
    "\n",
    "\n",
    "    \n",
    "    for iron_condor in iron_condors:\n",
    "        condor_data = iron_condor.to_dict()\n",
    "        condor_data['symbol'] = option_chains.underlying_symbol\n",
    "        condor_data['timestamp'] = option_chains.timestamp\n",
    "        condor_data['expiration'] = expiration\n",
    "        condor_data['type'] = \"iron condor\"\n",
    "        \n",
    "        client.Spreads.condors.insert_one(condor_data)\n",
    "    \n",
    "    for bull_condor in bull_condors:\n",
    "        condor_data = bull_condor.to_dict()\n",
    "        condor_data['symbol'] = option_chains.underlying_symbol\n",
    "        condor_data['timestamp'] = option_chains.timestamp\n",
    "        condor_data['expiration'] = expiration\n",
    "        condor_data['type'] = \"bull condor\"\n",
    "        \n",
    "        client.Spreads.condors.insert_one(condor_data)\n",
    "        \n",
    "    for bear_condor in bear_condors:\n",
    "        condor_data = bear_condor.to_dict()\n",
    "        condor_data['symbol'] = option_chains.underlying_symbol\n",
    "        condor_data['timestamp'] = option_chains.timestamp\n",
    "        condor_data['expiration'] = expiration\n",
    "        condor_data['type'] = \"bear condor\"\n",
    "\n",
    "        client.Spreads.condors.insert_one(condor_data)\n",
    "        \n",
    "    \n",
    "print(\"Total Number of condors found: {:,}\".format(total_condors))"
   ]
  },
  {
   "cell_type": "code",
   "execution_count": null,
   "metadata": {
    "collapsed": true
   },
   "outputs": [],
   "source": []
  },
  {
   "cell_type": "code",
   "execution_count": 253,
   "metadata": {
    "collapsed": true
   },
   "outputs": [],
   "source": [
    "class VerticalSpread:\n",
    "    def __init__(self, spread_data_df):\n",
    "        self.K1_Ask = spread_data_df[\"K1_Ask\"]\n",
    "        self.K1_Bid = spread_data_df[\"K1_Bid\"]\n",
    "        self.K1_Description = spread_data_df[\"K1_Description\"]        \n",
    "        self.K1_Exchange = spread_data_df[\"K1_Exchange\"]        \n",
    "        self.K1_Last_Sale = spread_data_df[\"K1_Last Sale\"]        \n",
    "        self.K1_Net = spread_data_df[\"K1_Net\"]        \n",
    "        self.K1_Open_Int = spread_data_df[\"K1_Open Int\"]        \n",
    "        self.K1_Strike = spread_data_df[\"K1_Strike\"]        \n",
    "        self.K1_Vol = spread_data_df[\"K1_Vol\"]\n",
    "        self.K1_Sigma = spread_data_df[\"K1_Sigma\"]                \n",
    "        self.K1_Delta = spread_data_df[\"K1_Delta\"]                \n",
    "        self.K1_Gamma = spread_data_df[\"K1_Gamma\"]                \n",
    "        self.K1_Theta = spread_data_df[\"K1_Theta\"]                \n",
    "        self.K1_Vega = spread_data_df[\"K1_Vega\"]                \n",
    "        self.K1_Entry = spread_data_df[\"K1_Entry\"]\n",
    "        \n",
    "        self.K2_Ask = spread_data_df[\"K2_Ask\"]\n",
    "        self.K2_Bid = spread_data_df[\"K2_Bid\"]\n",
    "        self.K2_Description = spread_data_df[\"K2_Description\"]        \n",
    "        self.K2_Exchange = spread_data_df[\"K2_Exchange\"]        \n",
    "        self.K2_Last_Sale = spread_data_df[\"K2_Last Sale\"]        \n",
    "        self.K2_Net = spread_data_df[\"K2_Net\"]        \n",
    "        self.K2_Open_Int = spread_data_df[\"K2_Open Int\"]        \n",
    "        self.K2_Strike = spread_data_df[\"K2_Strike\"]        \n",
    "        self.K2_Vol = spread_data_df[\"K2_Vol\"]\n",
    "        self.K2_Sigma = spread_data_df[\"K2_Sigma\"]                \n",
    "        self.K2_Delta = spread_data_df[\"K2_Delta\"]                \n",
    "        self.K2_Gamma = spread_data_df[\"K2_Gamma\"]                \n",
    "        self.K2_Theta = spread_data_df[\"K2_Theta\"]                \n",
    "        self.K2_Vega = spread_data_df[\"K2_Vega\"]                \n",
    "        self.K2_Entry = spread_data_df[\"K2_Entry\"]\n",
    "        \n",
    "        self.max_profit = spread_data_df[\"Max Profit\"]\n",
    "        self.max_risk = spread_data_df[\"Max Risk\"]\n",
    "        self.break_even = spread_data_df[\"Break Even\"]\n",
    "        self.delta = spread_data_df[\"Delta\"]\n",
    "        self.gamma = spread_data_df[\"Gamma\"]\n",
    "        self.theta = spread_data_df[\"Theta\"]\n",
    "        self.vega = spread_data_df[\"Vega\"]"
   ]
  },
  {
   "cell_type": "code",
   "execution_count": 193,
   "metadata": {
    "collapsed": true
   },
   "outputs": [],
   "source": [
    "class IronCondor:\n",
    "    def __init__(self, bull_side, bear_side):\n",
    "        self.K1_Ask = bull_side.K1_Ask\n",
    "        self.K1_Bid = bull_side.K1_Bid\n",
    "        self.K1_Description = bull_side.K1_Description        \n",
    "        self.K1_Exchange = bull_side.K1_Exchange        \n",
    "        self.K1_Last_Sale = bull_side.K1_Last_Sale      \n",
    "        self.K1_Net = bull_side.K1_Net        \n",
    "        self.K1_Open_Int = bull_side.K1_Open_Int        \n",
    "        self.K1_Strike = bull_side.K1_Strike        \n",
    "        self.K1_Vol = bull_side.K1_Vol\n",
    "        self.K1_Sigma = bull_side.K1_Sigma                \n",
    "        self.K1_Delta = bull_side.K1_Delta                \n",
    "        self.K1_Gamma = bull_side.K1_Gamma                \n",
    "        self.K1_Theta = bull_side.K1_Theta                \n",
    "        self.K1_Vega = bull_side.K1_Vega                \n",
    "        self.K1_Entry = bull_side.K1_Entry\n",
    "        \n",
    "        self.K2_Ask = bull_side.K2_Ask\n",
    "        self.K2_Bid = bull_side.K2_Bid\n",
    "        self.K2_Description = bull_side.K2_Description        \n",
    "        self.K2_Exchange = bull_side.K2_Exchange        \n",
    "        self.K2_Last_Sale = bull_side.K2_Last_Sale      \n",
    "        self.K2_Net = bull_side.K2_Net        \n",
    "        self.K2_Open_Int = bull_side.K2_Open_Int        \n",
    "        self.K2_Strike = bull_side.K2_Strike        \n",
    "        self.K2_Vol = bull_side.K2_Vol\n",
    "        self.K2_Sigma = bull_side.K2_Sigma                \n",
    "        self.K2_Delta = bull_side.K2_Delta                \n",
    "        self.K2_Gamma = bull_side.K2_Gamma                \n",
    "        self.K2_Theta = bull_side.K2_Theta                \n",
    "        self.K2_Vega = bull_side.K2_Vega                \n",
    "        self.K2_Entry = bull_side.K2_Entry\n",
    "        \n",
    "        self.K3_Ask = bear_side.K1_Ask\n",
    "        self.K3_Bid = bear_side.K1_Bid\n",
    "        self.K3_Description = bear_side.K1_Description        \n",
    "        self.K3_Exchange = bear_side.K1_Exchange        \n",
    "        self.K3_Last_Sale = bear_side.K1_Last_Sale      \n",
    "        self.K3_Net = bear_side.K1_Net        \n",
    "        self.K3_Open_Int = bear_side.K1_Open_Int        \n",
    "        self.K3_Strike = bear_side.K1_Strike        \n",
    "        self.K3_Vol = bear_side.K1_Vol\n",
    "        self.K3_Sigma = bear_side.K1_Sigma                \n",
    "        self.K3_Delta = bear_side.K1_Delta                \n",
    "        self.K3_Gamma = bear_side.K1_Gamma                \n",
    "        self.K3_Theta = bear_side.K1_Theta                \n",
    "        self.K3_Vega = bear_side.K1_Vega                \n",
    "        self.K3_Entry = bear_side.K1_Entry\n",
    "        \n",
    "        self.K4_Ask = bear_side.K2_Ask\n",
    "        self.K4_Bid = bear_side.K2_Bid\n",
    "        self.K4_Description = bear_side.K2_Description        \n",
    "        self.K4_Exchange = bear_side.K2_Exchange        \n",
    "        self.K4_Last_Sale = bear_side.K2_Last_Sale      \n",
    "        self.K4_Net = bear_side.K2_Net        \n",
    "        self.K4_Open_Int = bear_side.K2_Open_Int        \n",
    "        self.K4_Strike = bear_side.K2_Strike        \n",
    "        self.K4_Vol = bear_side.K2_Vol\n",
    "        self.K4_Sigma = bear_side.K2_Sigma                \n",
    "        self.K4_Delta = bear_side.K2_Delta                \n",
    "        self.K4_Gamma = bear_side.K2_Gamma                \n",
    "        self.K4_Theta = bear_side.K2_Theta                \n",
    "        self.K4_Vega = bear_side.K2_Vega                \n",
    "        self.K4_Entry = bear_side.K2_Entry\n",
    "        \n",
    "        self.max_profit = self.K1_Entry + self.K2_Entry + self.K3_Entry + self.K4_Entry\n",
    "        self.max_risk = self.get_max_risk()\n",
    "        self.put_break_even = self.get_break_even(strike_diff=(self.K2_Strike-self.K1_Strike), low_strike=self.K1_Strike)\n",
    "        self.call_break_even = self.get_break_even(strike_diff=(self.K4_Strike-self.K3_Strike), low_strike=self.K3_Strike)\n",
    "        self.delta = self.K1_Delta + self.K2_Delta + self.K3_Delta + self.K4_Delta\n",
    "        self.gamma = self.K1_Gamma + self.K2_Gamma + self.K3_Gamma + self.K4_Gamma\n",
    "        self.theta = self.K1_Theta + self.K2_Theta + self.K3_Theta + self.K4_Theta\n",
    "        self.vega = self.K1_Vega + self.K2_Vega + self.K3_Vega + self.K4_Vega\n",
    "        \n",
    "        if (self.put_break_even==None) or (self.call_break_even==None):\n",
    "            self.broken_condor = True\n",
    "            self.adjust_max_profit()\n",
    "        else:\n",
    "            self.broken_condor = False\n",
    "            \n",
    "        \n",
    "    def get_max_risk(self):\n",
    "        put_strike_diff = self.K2_Strike - self.K1_Strike\n",
    "        call_strike_diff = self.K4_Strike - self.K3_Strike\n",
    "        if put_strike_diff > call_strike_diff:\n",
    "            max_risk = -put_strike_diff + self.max_profit\n",
    "        else:\n",
    "            max_risk = -call_strike_diff + self.max_profit\n",
    "            \n",
    "        return max_risk\n",
    "    \n",
    "    def get_break_even(self, strike_diff, low_strike):\n",
    "        # check for a broken wing condor:\n",
    "        if self.max_profit > strike_diff:\n",
    "            break_even = None\n",
    "        else:\n",
    "            break_even = low_strike + self.max_profit\n",
    "            \n",
    "        return break_even\n",
    "            \n",
    "    def adjust_max_profit(self):\n",
    "        if self.put_break_even == None:\n",
    "            self.max_profit -= (self.K2_Strike - self.K1_Strike)\n",
    "        \n",
    "        if self.call_break_even == None:\n",
    "            self.max_profit -= (self.K4_Strike - self.K3_Strike)\n",
    "        \n",
    "    def valid_condor(self):\n",
    "        max_profit_ok = False\n",
    "        max_risk_ok = False\n",
    "        break_evens_ok = False\n",
    "        put_break_even_ok = False\n",
    "        call_break_even_ok = False\n",
    "        \n",
    "        if self.max_profit > 0:\n",
    "            max_profit_ok = True\n",
    "        \n",
    "        if self.max_risk < 0:\n",
    "            max_risk_ok = True\n",
    "            \n",
    "        if self.put_break_even or self.call_break_even:\n",
    "            break_evens_ok = True\n",
    "        \n",
    "        if (self.put_break_even==None) or (self.K1_Strike < self.put_break_even < self.K2_Strike):\n",
    "            put_break_even_ok = True\n",
    "        \n",
    "        if (self.call_break_even==None) or (self.K3_Strike < self.call_break_even < self.K4_Strike):\n",
    "            call_break_even_ok = True\n",
    "        \n",
    "            \n",
    "        if (max_profit_ok & max_risk_ok & break_evens_ok & put_break_even_ok & call_break_even_ok):\n",
    "            return self\n",
    "        else:\n",
    "            return None\n",
    "            "
   ]
  },
  {
   "cell_type": "code",
   "execution_count": 209,
   "metadata": {},
   "outputs": [
    {
     "name": "stdout",
     "output_type": "stream",
     "text": [
      "Expiration: 2018-08-31 16:00:00\n",
      "bull_puts.shape: (1081, 38)\n",
      "bear_calls.shape: (1052, 38)\n",
      "max possible condors: 1,137,212\n"
     ]
    }
   ],
   "source": [
    "# Expiration: 2018-08-31 16:00:00\n",
    "expiration, v = list(iron_condors_obj.vertical_spreads.items())[1]\n",
    "bull_puts_df = v[\"Bull Puts\"]\n",
    "bear_calls_df = v[\"Bear Calls\"]\n",
    "bull_puts = [VerticalSpread(bull_puts_df.iloc[idx]) for idx in range(bull_puts_df.shape[0])]\n",
    "bear_calls = [VerticalSpread(bear_calls_df.iloc[idx]) for idx in range(bear_calls_df.shape[0])]\n",
    "print(\"Expiration: {}\".format(expiration))\n",
    "print(\"bull_puts.shape: {}\".format(bull_puts_df.shape))\n",
    "print(\"bear_calls.shape: {}\".format(bear_calls_df.shape))\n",
    "print(\"max possible condors: {:,}\".format(bull_puts_df.shape[0]*bear_calls_df.shape[0]))"
   ]
  },
  {
   "cell_type": "code",
   "execution_count": 211,
   "metadata": {},
   "outputs": [
    {
     "name": "stdout",
     "output_type": "stream",
     "text": [
      "Elapsed time: 0:00:01.910238\n",
      "Total Iron Condors: 153,121\n"
     ]
    }
   ],
   "source": [
    "start_time = datetime.datetime.today()\n",
    "\n",
    "# This ran in 12s\n",
    "# Total condors: 852,390\n",
    "# iron_condors = [IronCondor(bull_put, bear_call) for bull_put in bull_puts for bear_call in bear_calls]\n",
    "\n",
    "# This ran in 1.7s\n",
    "# Total condors: 102,087\n",
    "condors = [IronCondor(bull_put, bear_call) for bull_put in bull_puts for bear_call in bear_calls if (bull_put.K2_Strike<=bear_call.K1_Strike) and (bull_put.K1_Strike<option_chains.underlying_spot<bear_call.K2_Strike)]\n",
    "\n",
    "end_time = datetime.datetime.today()\n",
    "\n",
    "elapsed_time = end_time - start_time\n",
    "print(\"Elapsed time: {}\".format(elapsed_time))\n",
    "print(\"Total Iron Condors: {:,}\".format(len(condors)))"
   ]
  },
  {
   "cell_type": "code",
   "execution_count": 212,
   "metadata": {},
   "outputs": [
    {
     "name": "stdout",
     "output_type": "stream",
     "text": [
      "There are 312 Iron Condors\n",
      "There are 19 Bull Condors\n",
      "There are 12 Bear Condors\n"
     ]
    }
   ],
   "source": [
    "# check if they are valid\n",
    "valid_condors = [condor for condor in condors if condor.valid_condor()]\n",
    "\n",
    "# risk limit\n",
    "risk_limit = 500\n",
    "risk_limit = -risk_limit/100.0\n",
    "valid_condors = [condor for condor in valid_condors if condor.max_risk > risk_limit]\n",
    "\n",
    "# separate the condors into:\n",
    "iron_condors = [condor for condor in valid_condors if (condor.put_break_even and condor.call_break_even)]\n",
    "bull_condors = [condor for condor in valid_condors if (condor.put_break_even and condor.call_break_even==None)]\n",
    "bear_condors = [condor for condor in valid_condors if (condor.put_break_even==None and condor.call_break_even)]\n",
    "\n",
    "\n",
    "# ITM condors:\n",
    "bull_condors = [condor for condor in bull_condors if (condor.put_break_even<option_chains.underlying_spot)]\n",
    "bear_condors = [condor for condor in bear_condors if (condor.call_break_even>option_chains.underlying_spot)]\n",
    "iron_condors = [condor for condor in iron_condors if (condor.put_break_even<option_chains.underlying_spot<condor.call_break_even)]\n",
    "\n",
    "# Sky View Criteria:\n",
    "iron_condors1 = [condor for condor in iron_condors if (((condor.K2_Strike-condor.K1_Strike) >=(condor.K4_Strike-condor.K3_Strike)) and (condor.K2_Strike-condor.K1_Strike)*0.2<=condor.max_profit<=(condor.K2_Strike-condor.K1_Strike)*0.33)]\n",
    "iron_condors2 = [condor for condor in iron_condors if (((condor.K2_Strike-condor.K1_Strike) < (condor.K4_Strike-condor.K3_Strike)) and (condor.K4_Strike-condor.K3_Strike)*0.2<=condor.max_profit<=(condor.K4_Strike-condor.K3_Strike)*0.33)]\n",
    "iron_condors = iron_condors1 + iron_condors2\n",
    "\n",
    "bull_condors = [condor for condor in bull_condors if ((condor.K2_Strike-condor.K1_Strike)*0.2<=condor.max_profit<=(condor.K2_Strike-condor.K1_Strike)*0.33)]\n",
    "bear_condors = [condor for condor in bear_condors if ((condor.K4_Strike-condor.K3_Strike)*0.2<=condor.max_profit<=(condor.K4_Strike-condor.K3_Strike)*0.33)]\n",
    "\n",
    "# Add P.O.P.:\n",
    "\n",
    "\n",
    "\n",
    "print(\"There are {} Iron Condors\".format(len(iron_condors)))\n",
    "print(\"There are {} Bull Condors\".format(len(bull_condors)))\n",
    "print(\"There are {} Bear Condors\".format(len(bear_condors)))"
   ]
  },
  {
   "cell_type": "code",
   "execution_count": 205,
   "metadata": {},
   "outputs": [
    {
     "data": {
      "text/plain": [
       "[1, 2, 3, 5, 6, 7]"
      ]
     },
     "execution_count": 205,
     "metadata": {},
     "output_type": "execute_result"
    }
   ],
   "source": [
    "[1, 2, 3] + [5, 6, 7]"
   ]
  },
  {
   "cell_type": "code",
   "execution_count": 140,
   "metadata": {},
   "outputs": [
    {
     "name": "stdout",
     "output_type": "stream",
     "text": [
      "Strikes: 250.0/257.5/257.5/260.0\n",
      "Max Risk: 0.5\n",
      "Max Profit: 0.5\n",
      "Put Break Even: 254.5\n",
      "Call Break Even: None\n",
      "Underlying Spot: 259.54\n"
     ]
    }
   ],
   "source": [
    "# this_condor = valid_condors[0]\n",
    "# this_condor = broke_wing_condors[0]\n",
    "# this_condor = bull_condors[0]\n",
    "# this_condor = bear_condors[2]\n",
    "print(\"Strikes: {}/{}/{}/{}\".format(this_condor.K1_Strike,this_condor.K2_Strike,this_condor.K3_Strike,this_condor.K4_Strike))\n",
    "print(\"Max Risk: {}\".format(this_condor.max_risk))\n",
    "print(\"Max Profit: {}\".format(this_condor.max_profit))\n",
    "print(\"Put Break Even: {}\".format(this_condor.put_break_even))\n",
    "print(\"Call Break Even: {}\".format(this_condor.call_break_even))\n",
    "print(\"Underlying Spot: {}\".format(option_chains.underlying_spot))"
   ]
  },
  {
   "cell_type": "code",
   "execution_count": 123,
   "metadata": {},
   "outputs": [
    {
     "name": "stdout",
     "output_type": "stream",
     "text": [
      "There are 600 Bull Condors\n",
      "There are 0 Bull Condors\n"
     ]
    }
   ],
   "source": [
    "print(\"There are {} Bull Condors\".format(len(bull_condors)))\n",
    "bull_condors = [bull_condor for bull_condor in bull_condors if (bull_condor.put_break_even<option_chains.underlying_spot)]\n",
    "bull_condors = [bull_condor for bull_condor in bull_condors if (bull_condor.K1_Strike<bull_condor.put_break_even<bull_condor.K2_Strike)]\n",
    "bull_condors = [bull_condor for bull_condor in bull_condors if (bull_condor.max_risk<0)]\n",
    "print(\"There are {} Bull Condors\".format(len(bull_condors)))\n",
    "\n",
    "# 250.0/257.5/257.5/260.0\n",
    "# Max Risk: -3.50\n",
    "# Max Profit: 1.50\n",
    "# Put Break Even: 253.50\n",
    "# Call Break Even: NaN\n",
    "# P.O.P: 1.0\n",
    "# Delta: 1.9171\n",
    "# Gamma: 0.0048\n",
    "# Vega: -3.0677\n",
    "# Theta: 0.1609\n",
    "\n",
    "\n",
    "\n",
    "\n",
    "\n",
    "\n",
    "\n"
   ]
  },
  {
   "cell_type": "code",
   "execution_count": 199,
   "metadata": {},
   "outputs": [
    {
     "name": "stdout",
     "output_type": "stream",
     "text": [
      "Found it!!!\n"
     ]
    }
   ],
   "source": [
    "this_condor = None\n",
    "# for condor in broke_wing_condors:\n",
    "# for condor in bull_condors:\n",
    "for condor in bear_condors:\n",
    "    if condor.K1_Strike==255.0 and condor.K2_Strike==257.5 and condor.K3_Strike==257.5 and condor.K4_Strike==267.5:\n",
    "        print(\"Found it!!!\")\n",
    "        this_condor = condor\n",
    "        "
   ]
  },
  {
   "cell_type": "code",
   "execution_count": 200,
   "metadata": {},
   "outputs": [
    {
     "name": "stdout",
     "output_type": "stream",
     "text": [
      "Strikes: 255.0/257.5/257.5/267.5\n",
      "Max Risk: -4.849999999999998\n",
      "Max Profit: 2.650000000000002\n",
      "Put Break Even: None\n",
      "Call Break Even: 262.65\n",
      "K1_Entry: -9.85\n",
      "K2_Entry: 10.8\n",
      "K3_Entry: 13.3\n",
      "K4_Entry: -9.1\n"
     ]
    }
   ],
   "source": [
    "print(\"Strikes: {}/{}/{}/{}\".format(this_condor.K1_Strike,this_condor.K2_Strike,this_condor.K3_Strike,this_condor.K4_Strike))\n",
    "print(\"Max Risk: {}\".format(this_condor.max_risk))\n",
    "print(\"Max Profit: {}\".format(this_condor.max_profit))\n",
    "print(\"Put Break Even: {}\".format(this_condor.put_break_even))\n",
    "print(\"Call Break Even: {}\".format(this_condor.call_break_even))\n",
    "print(\"K1_Entry: {}\".format(this_condor.K1_Entry))\n",
    "print(\"K2_Entry: {}\".format(this_condor.K2_Entry))\n",
    "print(\"K3_Entry: {}\".format(this_condor.K3_Entry))\n",
    "print(\"K4_Entry: {}\".format(this_condor.K4_Entry))\n"
   ]
  },
  {
   "cell_type": "code",
   "execution_count": 192,
   "metadata": {},
   "outputs": [
    {
     "name": "stdout",
     "output_type": "stream",
     "text": [
      "initial max profit: 5.150000000000002\n",
      "break even: 262.65\n",
      "max risk: -4.849999999999998\n",
      "max profit: 2.650000000000002\n"
     ]
    }
   ],
   "source": [
    "max_profit = -9.85 + 10.8 + 13.30 -9.1\n",
    "print(\"initial max profit: {}\".format(max_profit))\n",
    "print(\"break even: {}\".format(257.5 + max_profit))\n",
    "print(\"max risk: {}\".format(257.5-267.5+max_profit))\n",
    "print(\"max profit: {}\".format(max_profit-(257.5-255)))\n",
    "\n"
   ]
  },
  {
   "cell_type": "code",
   "execution_count": 154,
   "metadata": {
    "collapsed": true
   },
   "outputs": [],
   "source": [
    "# Strike Display: 255.0/257.5/257.5/267.5\n",
    "# Max Profit: 2.65\n",
    "# Max Risk: -4.85\n",
    "# Put Break Even: NaN\n",
    "# Call Break Even: 262.65\n",
    "# Delta: 1.907208\n",
    "# Gamma: 0.005447\n",
    "# Theta: -3.100194\n",
    "# Vega: 0.178153\n",
    "# POP: 0.0\n",
    "\n",
    "# K1_Entry: -9.85\n",
    "# K2_Entry: 10.8\n",
    "# K3_Entry: 13.30\n",
    "# K4_Entry: -9.1\n",
    "\n",
    "# K1_Ask: 9.85\n",
    "# K1_Bid: 9.6\n",
    "# K1_Description: BIDU1831T255\n",
    "# K1_Exchange: None\n",
    "# K1_Last Sale: 8.15\n",
    "# K1_Net: 0.0\n",
    "# K1_Open Int: 74\n",
    "# K1_Strike: 255.0\n",
    "# K1_Vol: 0\n",
    "# K1_Sigma: 0.471549\n",
    "# K1_Delta: -0.014467\n",
    "# K1_Gamma: 0.000952\n",
    "# K1_Theta: 0.012813\n",
    "# K1_Vega: 0.030022\n",
    "# K2_Ask: 11.05\n",
    "# K2_Bid: 10.8\n",
    "# K2_Description: BIDU1831T257.5\n",
    "# K2_Exchange: None\n",
    "# K2_Last Sale: 9.65\n",
    "# K2_Net: 0.0\n",
    "# K2_Open Int: 133\n",
    "# K2_Strike: 257.5\n",
    "# K2_Vol: 0\n",
    "# K2_Sigma: 0.483129\n",
    "# K2_Delta: -0.019154\n",
    "# K2_Gamma: 0.001181\n",
    "# K2_Theta: 0.017521\n",
    "# K2_Vega: 0.038170\n",
    "\n",
    "# K3_Ask: 13.60\n",
    "# K3_Bid: 13.30\n",
    "# K3_Description: BIDU1831H257.5\n",
    "# K3_Exchange: None\n",
    "# K3_Last Sale: 14.77\n",
    "# K3_Net: -0.83\n",
    "# K3_Open Int: 36\n",
    "# K3_Strike: 257.5\n",
    "# K3_Vol: 3\n",
    "# K3_Sigma: 0.524989\n",
    "# K3_Delta: 0.972510\n",
    "# K3_Gamma: 0.001474\n",
    "# K3_Theta: -1.539184\n",
    "# K3_Vega: 0.051746\n",
    "# K4_Ask: 9.1\n",
    "# K4_Bid: 8.75\n",
    "# K4_Description: BIDU1831H267.5\n",
    "# K4_Exchange: None\n",
    "# K4_Last Sale: 11.00\n",
    "# K4_Net: 0.0\n",
    "# K4_Open Int: 22\n",
    "# K4_Strike: 267.5\n",
    "# K4_Vol: 0\n",
    "# K4_Sigma: 0.473117\n",
    "# K4_Delta: 0.968318\n",
    "# K4_Gamma: 0.001840\n",
    "# K4_Theta: -1.591343\n",
    "# K4_Vega: 0.058216\n",
    "# K3_Entry: 13.30\n",
    "# K4_Entry: -9.1\n"
   ]
  },
  {
   "cell_type": "code",
   "execution_count": null,
   "metadata": {
    "collapsed": true
   },
   "outputs": [],
   "source": []
  }
 ],
 "metadata": {
  "kernelspec": {
   "display_name": "Python 3",
   "language": "python",
   "name": "python3"
  },
  "language_info": {
   "codemirror_mode": {
    "name": "ipython",
    "version": 3
   },
   "file_extension": ".py",
   "mimetype": "text/x-python",
   "name": "python",
   "nbconvert_exporter": "python",
   "pygments_lexer": "ipython3",
   "version": "3.6.1"
  }
 },
 "nbformat": 4,
 "nbformat_minor": 2
}
