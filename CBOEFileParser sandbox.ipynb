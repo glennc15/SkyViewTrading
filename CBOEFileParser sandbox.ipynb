{
 "cells": [
  {
   "cell_type": "code",
   "execution_count": 4,
   "metadata": {
    "collapsed": true
   },
   "outputs": [],
   "source": [
    "%load_ext autoreload\n",
    "%autoreload 2\n",
    "\n",
    "import CBOEFileParser"
   ]
  },
  {
   "cell_type": "code",
   "execution_count": 42,
   "metadata": {},
   "outputs": [
    {
     "name": "stdout",
     "output_type": "stream",
     "text": [
      "Expiration: 2018-08-31 23:59:00\n",
      "Calls: 116\n",
      "Puts: 114\n",
      "Expiration: 2018-09-07 23:59:00\n",
      "Calls: 84\n",
      "Puts: 81\n",
      "Expiration: 2018-09-21 23:59:00\n",
      "Calls: 161\n",
      "Puts: 124\n"
     ]
    }
   ],
   "source": [
    "cboe_file = \"/Users/glenn/Documents/CBOE_Data/BIDU_201807261013.dat\"\n",
    "cboe_file = \"/Users/glenn/Documents/CBOE_Data/GOOG_201807301217.dat\"\n",
    "\n",
    "option_chain_obj = CBOEFileParser.CBOEFileParser(\n",
    "                    remove_options_after_days=60,\n",
    "                    remove_options_before_days=30,\n",
    "                    set_exchange=None) \\\n",
    "                    .parse_cboe_file(cboe_file=cboe_file) \\\n",
    "                    .add_greeks(risk_free_rate=0.298)\n",
    "\n",
    "for expiration, calls, puts in option_chain_obj.items():\n",
    "    print(\"Expiration: {}\".format(expiration))\n",
    "    print(\"Calls: {:,}\".format(len(calls)))\n",
    "    print(\"Puts: {:,}\".format(len(puts)))   "
   ]
  },
  {
   "cell_type": "code",
   "execution_count": null,
   "metadata": {
    "collapsed": true
   },
   "outputs": [],
   "source": []
  }
 ],
 "metadata": {
  "kernelspec": {
   "display_name": "Python 3",
   "language": "python",
   "name": "python3"
  },
  "language_info": {
   "codemirror_mode": {
    "name": "ipython",
    "version": 3
   },
   "file_extension": ".py",
   "mimetype": "text/x-python",
   "name": "python",
   "nbconvert_exporter": "python",
   "pygments_lexer": "ipython3",
   "version": "3.6.1"
  }
 },
 "nbformat": 4,
 "nbformat_minor": 2
}
