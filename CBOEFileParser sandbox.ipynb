{
 "cells": [
  {
   "cell_type": "code",
   "execution_count": 4,
   "metadata": {
    "collapsed": true
   },
   "outputs": [],
   "source": [
    "%load_ext autoreload\n",
    "%autoreload 2\n",
    "\n",
    "import CBOEFileParser"
   ]
  },
  {
   "cell_type": "code",
   "execution_count": 39,
   "metadata": {},
   "outputs": [],
   "source": [
    "cboe_file = \"/Users/glenn/Documents/CBOE_Data/BIDU_201807261013.dat\"\n",
    "# cboe_file = \"/Users/glenn/Documents/CBOE_Data/GOOG_201807301217.dat\"\n",
    "\n",
    "\n",
    "\n",
    "\n",
    "option_chain_obj = CBOEFileParser.CBOEFileParser(\n",
    "                    remove_options_after_days=60,\n",
    "                    remove_options_before_days=30,\n",
    "                    set_exchange=None) \\\n",
    "                    .parse_cboe_file(cboe_file=cboe_file) \\\n",
    "                    .add_greeks(risk_free_rate=0.298)\n",
    "\n",
    "# calls, puts = my_parser.parse_option_chains(cboe_file)"
   ]
  },
  {
   "cell_type": "code",
   "execution_count": 40,
   "metadata": {},
   "outputs": [
    {
     "name": "stdout",
     "output_type": "stream",
     "text": [
      "Expiration: 2018-08-31 23:59:00\n",
      "Calls: 47\n",
      "Puts: 47\n",
      "Expiration: 2018-09-07 23:59:00\n",
      "Calls: 29\n",
      "Puts: 29\n",
      "Expiration: 2018-09-21 23:59:00\n",
      "Calls: 35\n",
      "Puts: 29\n"
     ]
    }
   ],
   "source": [
    "for expiration, calls, puts in option_chain_obj.items():\n",
    "    print(\"Expiration: {}\".format(expiration))\n",
    "    print(\"Calls: {:,}\".format(len(calls)))\n",
    "    print(\"Puts: {:,}\".format(len(puts)))    "
   ]
  },
  {
   "cell_type": "code",
   "execution_count": 30,
   "metadata": {},
   "outputs": [
    {
     "data": {
      "text/plain": [
       "datetime.datetime(2018, 9, 21, 23, 59)"
      ]
     },
     "execution_count": 30,
     "metadata": {},
     "output_type": "execute_result"
    }
   ],
   "source": [
    "expiration"
   ]
  },
  {
   "cell_type": "code",
   "execution_count": 34,
   "metadata": {},
   "outputs": [
    {
     "data": {
      "text/plain": [
       "6555.0"
      ]
     },
     "execution_count": 34,
     "metadata": {},
     "output_type": "execute_result"
    }
   ],
   "source": [
    "(114*115)/2"
   ]
  },
  {
   "cell_type": "code",
   "execution_count": null,
   "metadata": {
    "collapsed": true
   },
   "outputs": [],
   "source": []
  }
 ],
 "metadata": {
  "kernelspec": {
   "display_name": "Python 3",
   "language": "python",
   "name": "python3"
  },
  "language_info": {
   "codemirror_mode": {
    "name": "ipython",
    "version": 3
   },
   "file_extension": ".py",
   "mimetype": "text/x-python",
   "name": "python",
   "nbconvert_exporter": "python",
   "pygments_lexer": "ipython3",
   "version": "3.6.1"
  }
 },
 "nbformat": 4,
 "nbformat_minor": 2
}
