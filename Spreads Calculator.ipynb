{
 "cells": [
  {
   "cell_type": "code",
   "execution_count": 2,
   "metadata": {
    "collapsed": true
   },
   "outputs": [],
   "source": [
    "%load_ext autoreload\n",
    "%autoreload 2\n",
    "\n",
    "from IPython.display import display\n",
    "\n",
    "import pandas as pd\n",
    "\n",
    "import CBOEFileParser\n",
    "import VerticalSpreads\n",
    "import CBOE_Downloader\n",
    "import POP"
   ]
  },
  {
   "cell_type": "code",
   "execution_count": 16,
   "metadata": {},
   "outputs": [],
   "source": [
    "%%capture\n",
    "\n",
    "\n",
    "underlying_symbol = \"AAPL\"\n",
    "risk_free_rate = 2.98\n",
    "\n",
    "cboe_file = CBOE_Downloader.CBOE_Downloader(underlying_symbol).download().save_download().get_filename()\n",
    "option_chains = CBOEFileParser.CBOEFileParser() \\\n",
    "                    .parse_cboe_file(cboe_file) \\\n",
    "                    .remove_options_after(days=60) \\\n",
    "                    .remove_options_before(days=30) \\\n",
    "                    .set_exchange() \\\n",
    "                    .add_greeks(risk_free_rate=risk_free_rate)"
   ]
  },
  {
   "cell_type": "code",
   "execution_count": 17,
   "metadata": {
    "collapsed": true
   },
   "outputs": [],
   "source": [
    "pop_calculator = POP.POP().get_ohlc_data(underlying_symbol)"
   ]
  },
  {
   "cell_type": "code",
   "execution_count": 18,
   "metadata": {},
   "outputs": [
    {
     "name": "stdout",
     "output_type": "stream",
     "text": [
      "AAPL\n",
      "Current Spot: 191.52\n",
      "Expiration: 2018-09-07 16:00:00\n",
      "Bull Puts:\n"
     ]
    },
    {
     "data": {
      "text/html": [
       "<div>\n",
       "<style>\n",
       "    .dataframe thead tr:only-child th {\n",
       "        text-align: right;\n",
       "    }\n",
       "\n",
       "    .dataframe thead th {\n",
       "        text-align: left;\n",
       "    }\n",
       "\n",
       "    .dataframe tbody tr th {\n",
       "        vertical-align: top;\n",
       "    }\n",
       "</style>\n",
       "<table border=\"1\" class=\"dataframe\">\n",
       "  <thead>\n",
       "    <tr style=\"text-align: right;\">\n",
       "      <th></th>\n",
       "      <th>Strike Display</th>\n",
       "      <th>Max Risk</th>\n",
       "      <th>Max Profit</th>\n",
       "      <th>Break Even</th>\n",
       "      <th>POP</th>\n",
       "      <th>Delta</th>\n",
       "      <th>Gamma</th>\n",
       "      <th>Theta</th>\n",
       "      <th>Vega</th>\n",
       "    </tr>\n",
       "  </thead>\n",
       "  <tbody>\n",
       "    <tr>\n",
       "      <th>196</th>\n",
       "      <td>180.0 / 182.5</td>\n",
       "      <td>-1.99</td>\n",
       "      <td>0.51</td>\n",
       "      <td>181.99</td>\n",
       "      <td>0.937</td>\n",
       "      <td>0.0001</td>\n",
       "      <td>-0.0000</td>\n",
       "      <td>-0.0001</td>\n",
       "      <td>-0.0003</td>\n",
       "    </tr>\n",
       "    <tr>\n",
       "      <th>216</th>\n",
       "      <td>182.5 / 185.0</td>\n",
       "      <td>-1.95</td>\n",
       "      <td>0.55</td>\n",
       "      <td>184.45</td>\n",
       "      <td>0.885</td>\n",
       "      <td>0.0002</td>\n",
       "      <td>-0.0000</td>\n",
       "      <td>-0.0001</td>\n",
       "      <td>-0.0004</td>\n",
       "    </tr>\n",
       "    <tr>\n",
       "      <th>235</th>\n",
       "      <td>185.0 / 187.5</td>\n",
       "      <td>-1.80</td>\n",
       "      <td>0.70</td>\n",
       "      <td>186.80</td>\n",
       "      <td>0.825</td>\n",
       "      <td>0.0004</td>\n",
       "      <td>-0.0001</td>\n",
       "      <td>-0.0003</td>\n",
       "      <td>-0.0007</td>\n",
       "    </tr>\n",
       "  </tbody>\n",
       "</table>\n",
       "</div>"
      ],
      "text/plain": [
       "    Strike Display  Max Risk  Max Profit  Break Even    POP   Delta   Gamma  \\\n",
       "196  180.0 / 182.5     -1.99        0.51      181.99  0.937  0.0001 -0.0000   \n",
       "216  182.5 / 185.0     -1.95        0.55      184.45  0.885  0.0002 -0.0000   \n",
       "235  185.0 / 187.5     -1.80        0.70      186.80  0.825  0.0004 -0.0001   \n",
       "\n",
       "      Theta    Vega  \n",
       "196 -0.0001 -0.0003  \n",
       "216 -0.0001 -0.0004  \n",
       "235 -0.0003 -0.0007  "
      ]
     },
     "metadata": {},
     "output_type": "display_data"
    },
    {
     "name": "stdout",
     "output_type": "stream",
     "text": [
      "Expiration: 2018-09-21 16:00:00\n",
      "Bull Puts:\n"
     ]
    },
    {
     "data": {
      "text/html": [
       "<div>\n",
       "<style>\n",
       "    .dataframe thead tr:only-child th {\n",
       "        text-align: right;\n",
       "    }\n",
       "\n",
       "    .dataframe thead th {\n",
       "        text-align: left;\n",
       "    }\n",
       "\n",
       "    .dataframe tbody tr th {\n",
       "        vertical-align: top;\n",
       "    }\n",
       "</style>\n",
       "<table border=\"1\" class=\"dataframe\">\n",
       "  <thead>\n",
       "    <tr style=\"text-align: right;\">\n",
       "      <th></th>\n",
       "      <th>Strike Display</th>\n",
       "      <th>Max Risk</th>\n",
       "      <th>Max Profit</th>\n",
       "      <th>Break Even</th>\n",
       "      <th>POP</th>\n",
       "      <th>Delta</th>\n",
       "      <th>Gamma</th>\n",
       "      <th>Theta</th>\n",
       "      <th>Vega</th>\n",
       "    </tr>\n",
       "  </thead>\n",
       "  <tbody>\n",
       "  </tbody>\n",
       "</table>\n",
       "</div>"
      ],
      "text/plain": [
       "Empty DataFrame\n",
       "Columns: [Strike Display, Max Risk, Max Profit, Break Even, POP, Delta, Gamma, Theta, Vega]\n",
       "Index: []"
      ]
     },
     "metadata": {},
     "output_type": "display_data"
    },
    {
     "name": "stdout",
     "output_type": "stream",
     "text": [
      "Expiration: 2018-08-31 16:00:00\n",
      "Bull Puts:\n"
     ]
    },
    {
     "data": {
      "text/html": [
       "<div>\n",
       "<style>\n",
       "    .dataframe thead tr:only-child th {\n",
       "        text-align: right;\n",
       "    }\n",
       "\n",
       "    .dataframe thead th {\n",
       "        text-align: left;\n",
       "    }\n",
       "\n",
       "    .dataframe tbody tr th {\n",
       "        vertical-align: top;\n",
       "    }\n",
       "</style>\n",
       "<table border=\"1\" class=\"dataframe\">\n",
       "  <thead>\n",
       "    <tr style=\"text-align: right;\">\n",
       "      <th></th>\n",
       "      <th>Strike Display</th>\n",
       "      <th>Max Risk</th>\n",
       "      <th>Max Profit</th>\n",
       "      <th>Break Even</th>\n",
       "      <th>POP</th>\n",
       "      <th>Delta</th>\n",
       "      <th>Gamma</th>\n",
       "      <th>Theta</th>\n",
       "      <th>Vega</th>\n",
       "    </tr>\n",
       "  </thead>\n",
       "  <tbody>\n",
       "    <tr>\n",
       "      <th>286</th>\n",
       "      <td>180.0 / 182.5</td>\n",
       "      <td>-1.97</td>\n",
       "      <td>0.53</td>\n",
       "      <td>181.97</td>\n",
       "      <td>0.921</td>\n",
       "      <td>0.0003</td>\n",
       "      <td>-0.0001</td>\n",
       "      <td>-0.0002</td>\n",
       "      <td>-0.0005</td>\n",
       "    </tr>\n",
       "    <tr>\n",
       "      <th>306</th>\n",
       "      <td>182.5 / 185.0</td>\n",
       "      <td>-1.92</td>\n",
       "      <td>0.58</td>\n",
       "      <td>184.42</td>\n",
       "      <td>0.877</td>\n",
       "      <td>0.0005</td>\n",
       "      <td>-0.0001</td>\n",
       "      <td>-0.0003</td>\n",
       "      <td>-0.0008</td>\n",
       "    </tr>\n",
       "    <tr>\n",
       "      <th>325</th>\n",
       "      <td>185.0 / 187.5</td>\n",
       "      <td>-1.80</td>\n",
       "      <td>0.70</td>\n",
       "      <td>186.80</td>\n",
       "      <td>0.810</td>\n",
       "      <td>0.0009</td>\n",
       "      <td>-0.0001</td>\n",
       "      <td>-0.0007</td>\n",
       "      <td>-0.0015</td>\n",
       "    </tr>\n",
       "    <tr>\n",
       "      <th>343</th>\n",
       "      <td>187.5 / 190.0</td>\n",
       "      <td>-1.70</td>\n",
       "      <td>0.80</td>\n",
       "      <td>189.20</td>\n",
       "      <td>0.663</td>\n",
       "      <td>0.0015</td>\n",
       "      <td>-0.0002</td>\n",
       "      <td>-0.0011</td>\n",
       "      <td>-0.0023</td>\n",
       "    </tr>\n",
       "  </tbody>\n",
       "</table>\n",
       "</div>"
      ],
      "text/plain": [
       "    Strike Display  Max Risk  Max Profit  Break Even    POP   Delta   Gamma  \\\n",
       "286  180.0 / 182.5     -1.97        0.53      181.97  0.921  0.0003 -0.0001   \n",
       "306  182.5 / 185.0     -1.92        0.58      184.42  0.877  0.0005 -0.0001   \n",
       "325  185.0 / 187.5     -1.80        0.70      186.80  0.810  0.0009 -0.0001   \n",
       "343  187.5 / 190.0     -1.70        0.80      189.20  0.663  0.0015 -0.0002   \n",
       "\n",
       "      Theta    Vega  \n",
       "286 -0.0002 -0.0005  \n",
       "306 -0.0003 -0.0008  \n",
       "325 -0.0007 -0.0015  \n",
       "343 -0.0011 -0.0023  "
      ]
     },
     "metadata": {},
     "output_type": "display_data"
    }
   ],
   "source": [
    "vertical_spreads = VerticalSpreads.VerticalSpreads() \\\n",
    "                                    .build_spreads(option_chains) \\\n",
    "                                    .risk_limit(200) \\\n",
    "                                    .itm_spreads(option_chains.underlying_spot) \\\n",
    "                                    .add_pop(pop_calculator) \\\n",
    "                                    .sky_view_spreads()\n",
    "print(option_chains.underlying_symbol)\n",
    "print(\"Current Spot: {}\".format(option_chains.underlying_spot))\n",
    "\n",
    "pd.options.display.max_columns = None\n",
    "for expiration, bull_calls, bull_puts, bear_calls, bear_puts in vertical_spreads.items(pretty_df=True):\n",
    "    \n",
    "    print(\"Expiration: {}\".format(expiration))\n",
    "\n",
    "    print(\"Bull Puts:\")\n",
    "    if isinstance(bull_puts, pd.DataFrame):\n",
    "        display(bull_puts.sort_values(by=['Break Even'], ascending=True).head(20))\n",
    "\n",
    "#     print(\"Bear Calls:\")\n",
    "#     if isinstance(bear_calls, pd.DataFrame):\n",
    "#         display(bear_calls.sort_values(by=['Delta'], ascending=True).head(20))"
   ]
  },
  {
   "cell_type": "code",
   "execution_count": null,
   "metadata": {
    "collapsed": true
   },
   "outputs": [],
   "source": []
  }
 ],
 "metadata": {
  "kernelspec": {
   "display_name": "Python 3",
   "language": "python",
   "name": "python3"
  },
  "language_info": {
   "codemirror_mode": {
    "name": "ipython",
    "version": 3
   },
   "file_extension": ".py",
   "mimetype": "text/x-python",
   "name": "python",
   "nbconvert_exporter": "python",
   "pygments_lexer": "ipython3",
   "version": "3.6.1"
  }
 },
 "nbformat": 4,
 "nbformat_minor": 2
}
