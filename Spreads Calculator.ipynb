{
 "cells": [
  {
   "cell_type": "code",
   "execution_count": 1,
   "metadata": {
    "collapsed": true
   },
   "outputs": [],
   "source": [
    "%load_ext autoreload\n",
    "%autoreload 2\n",
    "\n",
    "import datetime\n",
    "import numpy as np\n",
    "import pandas as pd\n",
    "\n",
    "\n",
    "import CBOEFileParser\n",
    "import VerticalSpreads\n",
    "import CBOE_Downloader\n",
    "import POP\n",
    "\n",
    "from pymongo import MongoClient"
   ]
  },
  {
   "cell_type": "code",
   "execution_count": 2,
   "metadata": {
    "collapsed": true
   },
   "outputs": [],
   "source": [
    "# underlying_symbol = \"BIDU\"\n",
    "# risk_free_rate = 3.0\n",
    "# risk_limit = 500"
   ]
  },
  {
   "cell_type": "code",
   "execution_count": 3,
   "metadata": {
    "collapsed": true
   },
   "outputs": [],
   "source": [
    "# pop_calculator = POP.POP().get_ohlc_data(underlying_symbol)"
   ]
  },
  {
   "cell_type": "code",
   "execution_count": 7,
   "metadata": {},
   "outputs": [
    {
     "name": "stdout",
     "output_type": "stream",
     "text": [
      "Expiration: 2018-08-31 23:59:00\n",
      "Calls: 116\n",
      "Puts: 114\n",
      "Expiration: 2018-09-07 23:59:00\n",
      "Calls: 84\n",
      "Puts: 81\n",
      "Expiration: 2018-09-21 23:59:00\n",
      "Calls: 161\n",
      "Puts: 124\n",
      "Current Spot: 1224.99\n",
      "Expiration: 2018-08-31 23:59:00\n",
      "Bull Puts: 46\n",
      "Bear Calls: 63\n",
      "Expiration: 2018-09-07 23:59:00\n",
      "Bull Puts: 14\n",
      "Bear Calls: 60\n",
      "Expiration: 2018-09-21 23:59:00\n",
      "Bull Puts: 26\n",
      "Bear Calls: 27\n"
     ]
    }
   ],
   "source": [
    "underlying_symbol = \"GOOG\"\n",
    "risk_limit = 200\n",
    "risk_free_rate = 3.0\n",
    "\n",
    "mongo_address = \"mongodb://localhost:27017\"\n",
    "\n",
    "MongoClient(mongo_address).Spreads.vertical.delete_many({})\n",
    "\n",
    "pop_calculator = POP.POP().get_ohlc_data(underlying_symbol)\n",
    "# cboe_file = CBOE_Downloader.CBOE_Downloader(underlying_symbol).download().save_download().get_filename()\n",
    "# cboe_file = \"/Users/glenn/Documents/CBOE_Data/BIDU_201807261013.dat\"\n",
    "cboe_file = \"/Users/glenn/Documents/CBOE_Data/GOOG_201807301217.dat\"\n",
    "\n",
    "option_chain_obj = CBOEFileParser.CBOEFileParser(\n",
    "                    remove_options_after_days=60,\n",
    "                    remove_options_before_days=30,\n",
    "                    set_exchange=None) \\\n",
    "                    .parse_cboe_file(cboe_file=cboe_file) \\\n",
    "                    .add_greeks(risk_free_rate=0.298)\n",
    "\n",
    "for expiration, calls, puts in option_chain_obj.items():\n",
    "    print(\"Expiration: {}\".format(expiration))\n",
    "    print(\"Calls: {:,}\".format(len(calls)))\n",
    "    print(\"Puts: {:,}\".format(len(puts)))\n",
    "    \n",
    "vertical_spreads = VerticalSpreads.VerticalSpreads() \\\n",
    "                                    .build_spreads(option_chain_obj) \\\n",
    "                                    .risk_limit(risk_limit)\\\n",
    "                                    .itm_spreads(option_chain_obj.underlying_spot) \\\n",
    "                                    .sky_view_spreads() \\\n",
    "                                    .add_pop(pop_calculator, option_chain_obj.underlying_spot) \\\n",
    "                                    .add_expected_return(pop_calculator, option_chain_obj.underlying_spot) \\\n",
    "                                    .write_to_mongo(mongo_address=mongo_address)\n",
    "                \n",
    "print(\"Current Spot: {}\".format(option_chain_obj.underlying_spot))\n",
    "for expiration, bull_calls, bull_puts, bear_calls, bear_puts in vertical_spreads.items():\n",
    "    print(\"Expiration: {}\".format(expiration))\n",
    "    print(\"Bull Puts: {:,}\".format(len(bull_puts)))\n",
    "    print(\"Bear Calls: {:,}\".format(len(bear_calls)))"
   ]
  },
  {
   "cell_type": "code",
   "execution_count": null,
   "metadata": {
    "collapsed": true
   },
   "outputs": [],
   "source": []
  }
 ],
 "metadata": {
  "kernelspec": {
   "display_name": "Python 3",
   "language": "python",
   "name": "python3"
  },
  "language_info": {
   "codemirror_mode": {
    "name": "ipython",
    "version": 3
   },
   "file_extension": ".py",
   "mimetype": "text/x-python",
   "name": "python",
   "nbconvert_exporter": "python",
   "pygments_lexer": "ipython3",
   "version": "3.6.1"
  }
 },
 "nbformat": 4,
 "nbformat_minor": 2
}
