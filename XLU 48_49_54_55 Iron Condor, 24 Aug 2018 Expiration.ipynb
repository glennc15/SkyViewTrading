{
 "cells": [
  {
   "cell_type": "markdown",
   "metadata": {},
   "source": [
    "## Generic Option Class\n",
    "### To be used as part of a payout class"
   ]
  },
  {
   "cell_type": "code",
   "execution_count": 1,
   "metadata": {
    "collapsed": true
   },
   "outputs": [],
   "source": [
    "import datetime\n",
    "import pandas_datareader.data as web\n",
    "import pandas as pd\n",
    "import numpy as np\n",
    "import math\n",
    "import matplotlib.pyplot as plt\n",
    "\n",
    "import Option\n",
    "\n",
    "%matplotlib inline"
   ]
  },
  {
   "cell_type": "code",
   "execution_count": 2,
   "metadata": {
    "collapsed": true
   },
   "outputs": [],
   "source": [
    "class ExpirationPayout(object):\n",
    "    def __init__(self, \n",
    "                ohlc_data):\n",
    "        \n",
    "        self.ohlc_data = ohlc_data\n",
    "        \n",
    "        \n",
    "#         self.positions = None\n",
    "#         self.expiration = None\n",
    "#         self.days_til_expiration = None\n",
    "#         self.real_returns = None\n",
    "        self.payouts = None\n",
    "        self.mean_positive_payout = None\n",
    "        self.mean_negative_payout = None\n",
    "        self.mean_payout = None\n",
    "        self.POP = None\n",
    "        self.worst_mean_return = None\n",
    "        self.best_mean_return = None\n",
    "        \n",
    "\n",
    "    def set_payouts(self, positions, expiration, start_date=None):\n",
    "#         self.expiration = expiration\n",
    "        \n",
    "        days_til_expiration = self.get_days_til_expiration(expiration, start_date)\n",
    "        spots = self.get_real_returns(days_til_expiration)\n",
    "        self.payouts = self.get_payouts(positions, spots)\n",
    "        \n",
    "        option_cost = -self.payouts.min().values[0]\n",
    "        self.mean_negative_payout = option_cost + self.payouts[self.payouts['Payout'].lt(0)].mean().values[0]\n",
    "        self.mean_positive_payout = option_cost + self.payouts[self.payouts['Payout'].gt(0)].mean().values[0] \n",
    "        \n",
    "        self.POP = self.payouts['Payout'].gt(0).sum() / self.payouts['Payout'].size\n",
    "#         self.mean_payout = (self.POP * self.mean_positive_payout) + ((1-self.POP) * self.mean_negative_payout)\n",
    "        self.mean_payout = self.payouts.mean().values[0]\n",
    "        self.mean_payout_std = self.payouts.std().values[0]\n",
    "\n",
    "\n",
    "\n",
    "        return self\n",
    "    \n",
    "    def summary(self):\n",
    "        plt.figure(figsize=(12,5))\n",
    "        plt.plot(self.payouts.index, self.payouts['Payout'])\n",
    "        itm_payouts = self.payouts[self.payouts.gt(0)]\n",
    "        plt.plot(itm_payouts.index, itm_payouts['Payout'], 'bD')\n",
    "        otm_payouts = self.payouts[self.payouts.lt(0)]\n",
    "        plt.plot(otm_payouts.index, otm_payouts['Payout'], 'ro')\n",
    "        plt.plot(self.payouts.index, np.repeat(0, self.payouts.size), 'k:')\n",
    "        \n",
    "        print(\"Expected Profit: {:.2f}\".format(self.mean_payout))\n",
    "        print(\"Expected Profit: {:.2f}\".format(self.mean_payout_std))\n",
    "        print(\"POP: {:.1%}\".format(self.POP))\n",
    "        print(\"\\n\")\n",
    "        print(\"Risk: {:.2f}\".format(-self.payouts.min().values[0]))\n",
    "        print(\"Expected Positive Payout: {:.2f}\".format(self.mean_positive_payout))\n",
    "        print(\"Expected Negative Payout: {:.2f}\".format(self.mean_negative_payout))\n",
    "\n",
    "\n",
    "        \n",
    "    def get_days_til_expiration(self, expiration, start_date=None):\n",
    "        if start_date:\n",
    "            current_date = start_date\n",
    "        else:\n",
    "            current_date = datetime.datetime.today()\n",
    "\n",
    "        days_til_expiration = 0            \n",
    "        one_day = datetime.timedelta(days=1)\n",
    "        while current_date < expiration:\n",
    "            if current_date.isoweekday() < 6:\n",
    "                days_til_expiration += 1\n",
    "            current_date += one_day\n",
    "            \n",
    "        return days_til_expiration\n",
    "    \n",
    "    def get_real_returns(self, days_til_expiration):\n",
    "        # calculate the new projected spots using past returns\n",
    "        # returns\n",
    "        spots = self.ohlc_data['Adj Close'] / self.ohlc_data['Adj Close'].shift(days_til_expiration)\n",
    "        # returns to spots\n",
    "        spots *= self.ohlc_data['Adj Close']\n",
    "        # some clean up\n",
    "        spots = spots[-252:]\n",
    "        \n",
    "        return spots\n",
    "    \n",
    "    def get_payouts(self, positions, spots):\n",
    "        position_number = 1\n",
    "        payout_data = {}\n",
    "        for position in positions:\n",
    "            position_label = \"position_{}\".format(position_number)\n",
    "            position_number += 1\n",
    "            payout_data[position_label] = position.payout(spots)\n",
    "            \n",
    "        payouts = pd.DataFrame(data=payout_data).sum(axis=1)\n",
    "        payouts = pd.DataFrame(data=payouts.values, index=spots, columns=['Payout']).sort_index()\n",
    "        payouts.index.name = 'Spot'\n",
    "        \n",
    "        return payouts\n",
    "    \n",
    "\n",
    "        \n",
    "            "
   ]
  },
  {
   "cell_type": "markdown",
   "metadata": {},
   "source": [
    "# XLU: 48/49/54/55 Iron Condor; Expiration: 24 Aug 2018"
   ]
  },
  {
   "cell_type": "code",
   "execution_count": 3,
   "metadata": {
    "collapsed": true
   },
   "outputs": [],
   "source": [
    "ohlc_symbol = \"XLU\"\n",
    "ohlc_end_date = datetime.datetime.today()\n",
    "ohlc_start_date = ohlc_end_date - datetime.timedelta(days=(2*365))\n",
    "ohlc_data = web.DataReader(name=ohlc_symbol, data_source='yahoo', start=ohlc_start_date, end=ohlc_end_date)"
   ]
  },
  {
   "cell_type": "code",
   "execution_count": 5,
   "metadata": {},
   "outputs": [
    {
     "name": "stdout",
     "output_type": "stream",
     "text": [
      "Expected Profit: -0.17\n",
      "Expected Profit: 0.45\n",
      "POP: 52.8%\n",
      "\n",
      "\n",
      "Risk: 0.76\n",
      "Expected Positive Payout: 0.99\n",
      "Expected Negative Payout: 0.14\n"
     ]
    },
    {
     "data": {
      "image/png": "[encoded data removed]",
      "text/plain": [
       "<matplotlib.figure.Figure at 0x117ed59b0>"
      ]
     },
     "metadata": {},
     "output_type": "display_data"
    }
   ],
   "source": [
    "expiration = datetime.datetime(2018, 8, 18, 23, 59)\n",
    "ohlc_symbol = ('XLU')\n",
    "long_put = Option.PutPayout(expiration=expiration, \n",
    "                      strike=48.0, \n",
    "                      price=-0.16, \n",
    "                      positions=1)\n",
    "\n",
    "short_put = Option.PutPayout(expiration=expiration, \n",
    "                      strike=49.0, \n",
    "                      price=0.24, \n",
    "                      positions=-1)\n",
    "\n",
    "short_call = Option.CallPayout(expiration=expiration, \n",
    "                      strike=54.0, \n",
    "                      price=0.32, \n",
    "                      positions=-1)\n",
    "\n",
    "long_call = Option.CallPayout(expiration=expiration, \n",
    "                      strike=55.0, \n",
    "                      price=-0.16, \n",
    "                      positions=1)\n",
    "\n",
    "positions = [long_put, short_put, short_call, long_call]\n",
    "\n",
    "# print (long_put.slope)\n",
    "# print (long_put.offset)\n",
    "# print (long_put.break_even)\n",
    "# print (\"\\n\")\n",
    "\n",
    "# print (short_put.slope)\n",
    "# print (short_put.offset)\n",
    "# print (short_put.break_even)\n",
    "# print (\"\\n\")\n",
    "\n",
    "# print (short_call.slope)\n",
    "# print (short_call.offset)\n",
    "# print (short_call.break_even)\n",
    "# print (\"\\n\")\n",
    "\n",
    "# print (long_call.slope)\n",
    "# print (long_call.offset)\n",
    "# print (long_call.break_even)\n",
    "\n",
    "XLU_Payouts = ExpirationPayout(ohlc_data).set_payouts(positions=positions, expiration=expiration)\n",
    "XLU_Payouts.summary()"
   ]
  },
  {
   "cell_type": "code",
   "execution_count": 6,
   "metadata": {},
   "outputs": [
    {
     "data": {
      "text/plain": [
       "__main__.ExpirationPayout"
      ]
     },
     "execution_count": 6,
     "metadata": {},
     "output_type": "execute_result"
    }
   ],
   "source": [
    "type(XLU_Payouts)"
   ]
  },
  {
   "cell_type": "markdown",
   "metadata": {},
   "source": [
    "## Want to know the following:\n",
    "## 1) Expected loss using historical data\n",
    "## 2) Expected payout using historical data"
   ]
  },
  {
   "cell_type": "markdown",
   "metadata": {},
   "source": [
    "Getting the ohlc data from yahoo and calculate returns for the period between today till expiration"
   ]
  },
  {
   "cell_type": "code",
   "execution_count": 24,
   "metadata": {},
   "outputs": [
    {
     "data": {
      "text/plain": [
       "<__main__.ExpirationPayout at 0x1134fea58>"
      ]
     },
     "execution_count": 24,
     "metadata": {},
     "output_type": "execute_result"
    }
   ],
   "source": [
    "XLU_Payouts"
   ]
  },
  {
   "cell_type": "code",
   "execution_count": null,
   "metadata": {
    "collapsed": true
   },
   "outputs": [],
   "source": [
    "days_til_expiration = 0\n",
    "current_date = datetime.datetime.today()\n",
    "one_day = datetime.timedelta(days=1)\n",
    "while current_date < expiration:\n",
    "    if current_date.isoweekday() < 6:\n",
    "        days_til_expiration += 1\n",
    "    current_date += one_day\n",
    "\n",
    "# calculate the new projected spots using past returns\n",
    "# returns\n",
    "spots = ohlc_data['Adj Close'] / ohlc_data['Adj Close'].shift(days_til_expiration)\n",
    "# returns to spots\n",
    "spots *= ohlc_data['Adj Close']\n",
    "# some clean up\n",
    "spots = spots[-252:]\n",
    "\n",
    "payout_data = {\n",
    "    'long_put': long_put.payout(spots),\n",
    "    'short_put': short_put.payout(spots),\n",
    "    'short_call': short_call.payout(spots),\n",
    "    'long_call': long_call.payout(spots)\n",
    "}\n",
    "payouts = pd.DataFrame(data=payout_data).sum(axis=1)\n",
    "payouts = pd.DataFrame(data=payouts.values, index =spots, columns=['Payout']).sort_index()\n",
    "payouts.index.name = 'Spot'"
   ]
  },
  {
   "cell_type": "code",
   "execution_count": null,
   "metadata": {
    "collapsed": true
   },
   "outputs": [],
   "source": [
    "plt.figure(figsize=(12,5))\n",
    "plt.plot(payouts.index, payouts['Payout'])\n",
    "itm_payouts = payouts[payouts.gt(0)]\n",
    "plt.plot(itm_payouts.index, itm_payouts['Payout'], 'bD')\n",
    "otm_payouts = payouts[payouts.lt(0)]\n",
    "plt.plot(otm_payouts.index, otm_payouts['Payout'], 'ro')\n",
    "plt.plot(payouts.index, np.repeat(0, payouts.size), 'k:')"
   ]
  },
  {
   "cell_type": "code",
   "execution_count": null,
   "metadata": {
    "collapsed": true
   },
   "outputs": [],
   "source": [
    "mean_positive_profit = payouts[payouts['Payout'].gt(0)].mean().values[0]\n",
    "mean_negative_payout = payouts[payouts['Payout'].lt(0)].mean().values[0]\n",
    "mean_payout = mean_positive_profit - mean_negative_payout\n",
    "pop = payouts['Payout'].gt(0).sum() / payouts['Payout'].size"
   ]
  },
  {
   "cell_type": "code",
   "execution_count": null,
   "metadata": {
    "collapsed": true
   },
   "outputs": [],
   "source": [
    "print(\"Expected Payout: ${:.2f} with a P.O.P of {:.2%}\".format((mean_payout*100), pop))\n",
    "print(\"Expected Loss: ${:.2f} with a Probability of {:.2%}\".format((mean_negative_payout*100), (1-pop)))"
   ]
  },
  {
   "cell_type": "code",
   "execution_count": null,
   "metadata": {
    "collapsed": true
   },
   "outputs": [],
   "source": [
    "mean_payout"
   ]
  },
  {
   "cell_type": "code",
   "execution_count": null,
   "metadata": {
    "collapsed": true
   },
   "outputs": [],
   "source": [
    "negative_payout = mean_negative_payout*100\n",
    "positve_payout = mean_payout*100\n",
    "worst_case = {'loss': np.repeat(negative_payout, 10),\n",
    "              'payout': [positve_payout, positve_payout, positve_payout, positve_payout, positve_payout, 0, 0, 0, 0, 0]}\n",
    "worst_case = pd.DataFrame(data=worst_case)"
   ]
  },
  {
   "cell_type": "code",
   "execution_count": null,
   "metadata": {
    "collapsed": true
   },
   "outputs": [],
   "source": [
    "print(worst_case)\n",
    "print(worst_case.sum(axis=1))"
   ]
  },
  {
   "cell_type": "code",
   "execution_count": null,
   "metadata": {
    "collapsed": true
   },
   "outputs": [],
   "source": [
    "print(worst_case.sum(axis=1).mean())"
   ]
  },
  {
   "cell_type": "code",
   "execution_count": null,
   "metadata": {
    "collapsed": true
   },
   "outputs": [],
   "source": [
    "worst_case = pop*(positve_payout+negative_payout) + (1-pop)*(negative_payout)\n",
    "worst_case"
   ]
  },
  {
   "cell_type": "code",
   "execution_count": null,
   "metadata": {
    "collapsed": true
   },
   "outputs": [],
   "source": [
    "# best_case/2 = (pop*postive_payout) +((1-pop)*min_negative_payout)\n",
    "((best_case/2) - (pop*positve_payout)) / (1-pop)"
   ]
  },
  {
   "cell_type": "code",
   "execution_count": null,
   "metadata": {
    "collapsed": true
   },
   "outputs": [],
   "source": [
    "best_case = {'loss': np.repeat(negative_payout, 10),\n",
    "              'payout': [positve_payout, positve_payout, positve_payout, positve_payout, positve_payout, -negative_payout, -negative_payout, -negative_payout, -negative_payout, -negative_payout]}\n",
    "best_case = pd.DataFrame(data=best_case)"
   ]
  },
  {
   "cell_type": "code",
   "execution_count": null,
   "metadata": {
    "collapsed": true
   },
   "outputs": [],
   "source": [
    "print(best_case)\n",
    "print(best_case.sum(axis=1))"
   ]
  },
  {
   "cell_type": "code",
   "execution_count": null,
   "metadata": {
    "collapsed": true
   },
   "outputs": [],
   "source": [
    "best_case.sum(axis=1).mean()"
   ]
  },
  {
   "cell_type": "code",
   "execution_count": null,
   "metadata": {
    "collapsed": true
   },
   "outputs": [],
   "source": [
    "best_case = pop*(positve_payout+negative_payout)\n",
    "best_case"
   ]
  },
  {
   "cell_type": "markdown",
   "metadata": {},
   "source": [
    "### Best and worst case percentages"
   ]
  },
  {
   "cell_type": "code",
   "execution_count": null,
   "metadata": {
    "collapsed": true
   },
   "outputs": [],
   "source": [
    "print(\"Worst case loss: {:.2%}\".format(worst_case/negative_payout-1))\n",
    "print(\"Best case gain: {:.2%}\".format(best_case/-negative_payout))"
   ]
  },
  {
   "cell_type": "code",
   "execution_count": null,
   "metadata": {
    "collapsed": true
   },
   "outputs": [],
   "source": [
    "# target_case = pop*(positve_payout+negative_payout) + (1-pop)*(negative_lose)\n",
    "target_case = best_case/2\n",
    "negative_lose = (target_case - pop*(positve_payout+negative_payout)) / (1-pop)\n",
    "negative_lose = -(-negative_lose + negative_payout)"
   ]
  },
  {
   "cell_type": "code",
   "execution_count": null,
   "metadata": {
    "collapsed": true
   },
   "outputs": [],
   "source": [
    "pop*(positve_payout+negative_payout) + (1-pop)*(negative_lose+negative_payout)"
   ]
  },
  {
   "cell_type": "code",
   "execution_count": null,
   "metadata": {
    "collapsed": true
   },
   "outputs": [],
   "source": [
    "negative_lose+negative_payout"
   ]
  },
  {
   "cell_type": "code",
   "execution_count": null,
   "metadata": {
    "collapsed": true
   },
   "outputs": [],
   "source": [
    "break_even_price = 44.812121000000005\n",
    "break_even = {'loss': np.repeat(negative_payout, 10),\n",
    "              'payout': [positve_payout, positve_payout, positve_payout, positve_payout, positve_payout, break_even_price, break_even_price, break_even_price, break_even_price, break_even_price]}\n",
    "break_even = pd.DataFrame(data=break_even)"
   ]
  },
  {
   "cell_type": "code",
   "execution_count": null,
   "metadata": {
    "collapsed": true
   },
   "outputs": [],
   "source": [
    "break_even"
   ]
  },
  {
   "cell_type": "code",
   "execution_count": null,
   "metadata": {
    "collapsed": true
   },
   "outputs": [],
   "source": [
    "break_even.sum(axis=1)"
   ]
  },
  {
   "cell_type": "code",
   "execution_count": null,
   "metadata": {
    "collapsed": true
   },
   "outputs": [],
   "source": []
  },
  {
   "cell_type": "code",
   "execution_count": null,
   "metadata": {
    "collapsed": true
   },
   "outputs": [],
   "source": []
  }
 ],
 "metadata": {
  "kernelspec": {
   "display_name": "Python 3",
   "language": "python",
   "name": "python3"
  },
  "language_info": {
   "codemirror_mode": {
    "name": "ipython",
    "version": 3
   },
   "file_extension": ".py",
   "mimetype": "text/x-python",
   "name": "python",
   "nbconvert_exporter": "python",
   "pygments_lexer": "ipython3",
   "version": "3.6.1"
  }
 },
 "nbformat": 4,
 "nbformat_minor": 2
}
